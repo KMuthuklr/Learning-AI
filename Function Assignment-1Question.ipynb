{
 "cells": [
  {
   "cell_type": "code",
   "execution_count": null,
   "metadata": {},
   "outputs": [],
   "source": [
    "# Create Function"
   ]
  },
  {
   "cell_type": "code",
   "execution_count": 1,
   "metadata": {},
   "outputs": [
    {
     "name": "stdout",
     "output_type": "stream",
     "text": [
      "Hight :3\n",
      "Breath :4\n",
      "Area formula: (Height*Breath)/2\n",
      "Area of Triangle: 6.0\n",
      "Hight1 :3\n",
      "Hight2 :4\n",
      "Breath :45\n",
      "Area formula: (hight1+hight2+breath)\n",
      "Perimeter of Trianle: 52\n"
     ]
    }
   ],
   "source": [
    "def triangle():\n",
    "    hight=int(input(\"Hight :\"))\n",
    "    breath=int(input(\"Breath :\"))\n",
    "    formula1=((hight*breath)/2)\n",
    "    print(\"Area formula: (Height*Breath)/2\")\n",
    "    print(\"Area of Triangle:\",formula1)\n",
    "    angle=\"Area of Triangle:\"\n",
    "    hight1=int(input(\"Hight1 :\"))\n",
    "    hight2=int(input(\"Hight2 :\"))\n",
    "    breath=int(input(\"Breath :\"))\n",
    "    formula=(hight1+hight2+breath)\n",
    "    print(\"Area formula: (hight1+hight2+breath)\")\n",
    "    print(\"Perimeter of Trianle:\",formula)\n",
    "    angle=\"Perimeter of Trianle:\"\n",
    "    return \n",
    "triangle()"
   ]
  },
  {
   "cell_type": "code",
   "execution_count": null,
   "metadata": {},
   "outputs": [],
   "source": [
    "#Percentage"
   ]
  },
  {
   "cell_type": "code",
   "execution_count": 3,
   "metadata": {},
   "outputs": [
    {
     "name": "stdout",
     "output_type": "stream",
     "text": [
      "Subject1: 23\n",
      "Subject2: 45\n",
      "Subject3: 34\n",
      "Subject4: 23\n",
      "Subject5: 23\n",
      "Total : 148\n",
      "Percentage : 29.6\n"
     ]
    }
   ],
   "source": [
    "def marks():\n",
    "    num1=int(input(\"Subject1: \"))\n",
    "    num2=int(input(\"Subject2: \"))\n",
    "    num3=int(input(\"Subject3: \"))\n",
    "    num4=int(input(\"Subject4: \"))\n",
    "    num5=int(input(\"Subject5: \"))\n",
    "    total=(num1+num2+num3+num4+num5)\n",
    "    print(\"Total :\",total)\n",
    "    per=(total/5)\n",
    "    print(\"Percentage :\",per)\n",
    "    return\n",
    "marks()"
   ]
  },
  {
   "cell_type": "code",
   "execution_count": null,
   "metadata": {},
   "outputs": [],
   "source": [
    "Eligible"
   ]
  },
  {
   "cell_type": "code",
   "execution_count": 15,
   "metadata": {},
   "outputs": [
    {
     "name": "stdout",
     "output_type": "stream",
     "text": [
      "Your Gender: Male\n",
      "Your Age: 18\n",
      "Not Eligible\n"
     ]
    }
   ],
   "source": [
    "def merrage():\n",
    "    gender=input(\"Your Gender: \")\n",
    "    age=int(input(\"Your Age: \"))\n",
    "    if(age<18):    \n",
    "        print(\"Eligible\")\n",
    "    else:  \n",
    "        print(\"Not Eligible\")\n",
    "    return\n",
    "merrage()\n"
   ]
  },
  {
   "cell_type": "code",
   "execution_count": null,
   "metadata": {},
   "outputs": [],
   "source": [
    "# OddEven "
   ]
  },
  {
   "cell_type": "code",
   "execution_count": 17,
   "metadata": {},
   "outputs": [
    {
     "name": "stdout",
     "output_type": "stream",
     "text": [
      "Enter the Number4\n",
      "4 is Even number\n"
     ]
    }
   ],
   "source": [
    "def oddeven():\n",
    "    num=(int(input(\"Enter the Number\")))\n",
    "    if(num%2==1):\n",
    "        print(num,\"is Odd number\")\n",
    "    else:\n",
    "        print(num,\"is Even number\")\n",
    "    return "
   ]
  },
  {
   "cell_type": "code",
   "execution_count": 20,
   "metadata": {},
   "outputs": [
    {
     "name": "stdout",
     "output_type": "stream",
     "text": [
      "Enter the Number4\n",
      "4 is Even number\n"
     ]
    }
   ],
   "source": [
    "oddeven()"
   ]
  },
  {
   "cell_type": "code",
   "execution_count": 22,
   "metadata": {},
   "outputs": [],
   "source": [
    "def ai():\n",
    "    print(\"Sub-fields in AI are:\")\n",
    "    print(\"Machine Learning\")\n",
    "    print(\"Neural Networks\")\n",
    "    print(\"Vision\")\n",
    "    print(\"Robotics\")\n",
    "    print(\"Speech Processing\")\n",
    "    print(\"Natural Laguage Processing\")\n",
    "    return"
   ]
  },
  {
   "cell_type": "code",
   "execution_count": 23,
   "metadata": {},
   "outputs": [
    {
     "name": "stdout",
     "output_type": "stream",
     "text": [
      "Sub-fields in AI are:\n",
      "Machine Learning\n",
      "Neural Networks\n",
      "Vision\n",
      "Robotics\n",
      "Speech Processing\n",
      "Natural Laguage Processing\n"
     ]
    }
   ],
   "source": [
    "ai()"
   ]
  },
  {
   "cell_type": "code",
   "execution_count": null,
   "metadata": {},
   "outputs": [],
   "source": []
  }
 ],
 "metadata": {
  "kernelspec": {
   "display_name": "Python 3",
   "language": "python",
   "name": "python3"
  },
  "language_info": {
   "codemirror_mode": {
    "name": "ipython",
    "version": 3
   },
   "file_extension": ".py",
   "mimetype": "text/x-python",
   "name": "python",
   "nbconvert_exporter": "python",
   "pygments_lexer": "ipython3",
   "version": "3.7.4"
  }
 },
 "nbformat": 4,
 "nbformat_minor": 2
}

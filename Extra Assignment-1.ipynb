{
 "cells": [
  {
   "cell_type": "code",
   "execution_count": null,
   "metadata": {},
   "outputs": [],
   "source": [
    "# print statement"
   ]
  },
  {
   "cell_type": "code",
   "execution_count": 1,
   "metadata": {},
   "outputs": [
    {
     "name": "stdout",
     "output_type": "stream",
     "text": [
      "Hope AI\n"
     ]
    }
   ],
   "source": [
    "print(\"Hope AI\")"
   ]
  },
  {
   "cell_type": "code",
   "execution_count": null,
   "metadata": {},
   "outputs": [],
   "source": [
    "# print statement"
   ]
  },
  {
   "cell_type": "code",
   "execution_count": 2,
   "metadata": {},
   "outputs": [
    {
     "name": "stdout",
     "output_type": "stream",
     "text": [
      "Enter your institute name? :Hope Ai\n"
     ]
    }
   ],
   "source": [
    "buyinput=input(\"Enter your institute name? :\")"
   ]
  },
  {
   "cell_type": "code",
   "execution_count": null,
   "metadata": {},
   "outputs": [],
   "source": [
    "# print statement"
   ]
  },
  {
   "cell_type": "code",
   "execution_count": 3,
   "metadata": {},
   "outputs": [
    {
     "name": "stdout",
     "output_type": "stream",
     "text": [
      "Enter your name:Muthu\n",
      "Enter your age:35\n",
      "Enter your school name:Govt Boys Hr. Sec. school\n",
      "Enter your degree:MBA.,\n"
     ]
    }
   ],
   "source": [
    "name=input(\"Enter your name:\")\n",
    "age=input(\"Enter your age:\")\n",
    "school_name=input(\"Enter your school name:\")\n",
    "degree=input(\"Enter your degree:\")"
   ]
  },
  {
   "cell_type": "code",
   "execution_count": null,
   "metadata": {},
   "outputs": [],
   "source": [
    "#Addition"
   ]
  },
  {
   "cell_type": "code",
   "execution_count": 6,
   "metadata": {},
   "outputs": [
    {
     "name": "stdout",
     "output_type": "stream",
     "text": [
      "a=34\n",
      "b=43\n",
      "add =  77\n"
     ]
    }
   ],
   "source": [
    "num1=int(input(\"a=\"))\n",
    "num2=int(input(\"b=\"))\n",
    "add=num1+num2\n",
    "print(\"add = \",add)"
   ]
  },
  {
   "cell_type": "code",
   "execution_count": null,
   "metadata": {},
   "outputs": [],
   "source": [
    "#Subtraction"
   ]
  },
  {
   "cell_type": "code",
   "execution_count": 8,
   "metadata": {},
   "outputs": [
    {
     "name": "stdout",
     "output_type": "stream",
     "text": [
      "a=43\n",
      "b=34\n",
      "sub =  9\n"
     ]
    }
   ],
   "source": [
    "num1=int(input(\"a=\"))\n",
    "num2=int(input(\"b=\"))\n",
    "sub=num1-num2\n",
    "print(\"sub = \",sub)"
   ]
  },
  {
   "cell_type": "code",
   "execution_count": null,
   "metadata": {},
   "outputs": [],
   "source": [
    "#Multiplication"
   ]
  },
  {
   "cell_type": "code",
   "execution_count": 9,
   "metadata": {},
   "outputs": [
    {
     "name": "stdout",
     "output_type": "stream",
     "text": [
      "a=63\n",
      "b=97\n",
      "Mul =  6111\n"
     ]
    }
   ],
   "source": [
    "num1=int(input(\"a=\"))\n",
    "num2=int(input(\"b=\"))\n",
    "mul=num1*num2\n",
    "print(\"Mul = \",mul)"
   ]
  },
  {
   "cell_type": "code",
   "execution_count": null,
   "metadata": {},
   "outputs": [],
   "source": [
    "#Division"
   ]
  },
  {
   "cell_type": "code",
   "execution_count": 10,
   "metadata": {},
   "outputs": [
    {
     "name": "stdout",
     "output_type": "stream",
     "text": [
      "a=76\n",
      "b=31\n",
      "Dev =  2.4516129032258065\n"
     ]
    }
   ],
   "source": [
    "num1=int(input(\"a=\"))\n",
    "num2=int(input(\"b=\"))\n",
    "dev=num1/num2\n",
    "print(\"Dev = \",dev)"
   ]
  },
  {
   "cell_type": "code",
   "execution_count": null,
   "metadata": {},
   "outputs": [],
   "source": [
    "#Floor Division"
   ]
  },
  {
   "cell_type": "code",
   "execution_count": 11,
   "metadata": {},
   "outputs": [
    {
     "name": "stdout",
     "output_type": "stream",
     "text": [
      "a=76\n",
      "b=31\n",
      "Dev =  2\n"
     ]
    }
   ],
   "source": [
    "num1=int(input(\"a=\"))\n",
    "num2=int(input(\"b=\"))\n",
    "floor_dev=num1//num2\n",
    "print(\"Dev = \",floor_dev)"
   ]
  },
  {
   "cell_type": "code",
   "execution_count": null,
   "metadata": {},
   "outputs": [],
   "source": [
    "# Modulo"
   ]
  },
  {
   "cell_type": "code",
   "execution_count": 9,
   "metadata": {},
   "outputs": [
    {
     "name": "stdout",
     "output_type": "stream",
     "text": [
      "a=76\n",
      "b=31\n",
      "Modulo 14\n"
     ]
    }
   ],
   "source": [
    "num1=int(input(\"a=\"))\n",
    "num2=int(input(\"b=\"))\n",
    "print(\"Modulo=\",num1%num2)"
   ]
  },
  {
   "cell_type": "code",
   "execution_count": null,
   "metadata": {},
   "outputs": [],
   "source": [
    "#Power"
   ]
  },
  {
   "cell_type": "code",
   "execution_count": 10,
   "metadata": {},
   "outputs": [
    {
     "name": "stdout",
     "output_type": "stream",
     "text": [
      "a=4\n",
      "b=4\n",
      "Power= 256\n"
     ]
    }
   ],
   "source": [
    "num1=int(input(\"a=\"))\n",
    "num2=int(input(\"b=\"))\n",
    "power=pow(num1,num2)\n",
    "print(\"Power=\",power)"
   ]
  }
 ],
 "metadata": {
  "kernelspec": {
   "display_name": "Python 3",
   "language": "python",
   "name": "python3"
  },
  "language_info": {
   "codemirror_mode": {
    "name": "ipython",
    "version": 3
   },
   "file_extension": ".py",
   "mimetype": "text/x-python",
   "name": "python",
   "nbconvert_exporter": "python",
   "pygments_lexer": "ipython3",
   "version": "3.7.4"
  }
 },
 "nbformat": 4,
 "nbformat_minor": 2
}
